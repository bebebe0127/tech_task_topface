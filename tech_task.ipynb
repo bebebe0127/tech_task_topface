{
 "cells": [
  {
   "cell_type": "code",
   "execution_count": null,
   "id": "e6594c5f",
   "metadata": {},
   "outputs": [],
   "source": [
    "import csv\n",
    "import numpy\n",
    "import pandas\n",
    "\n"
   ]
  }
 ],
 "metadata": {
  "language_info": {
   "name": "python"
  }
 },
 "nbformat": 4,
 "nbformat_minor": 5
}
